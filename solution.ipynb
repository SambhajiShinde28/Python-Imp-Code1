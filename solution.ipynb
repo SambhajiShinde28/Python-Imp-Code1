{
 "cells": [
  {
   "cell_type": "code",
   "execution_count": null,
   "id": "d4c9d2f6",
   "metadata": {},
   "outputs": [],
   "source": [
    "#Q1. Rotate a Number Problem\n",
    "# Problem Statement:\n",
    "# You are given a positive integer n and an integer k. You need to rotate the digits of the number n by k places to the right. \n",
    "# For example, if n = 12345 and k = 2, the result after rotating the digits to the right by 2 places would be 45123."
   ]
  },
  {
   "cell_type": "code",
   "execution_count": null,
   "id": "fefe6fa3",
   "metadata": {},
   "outputs": [
    {
     "name": "stdout",
     "output_type": "stream",
     "text": [
      "458123\n"
     ]
    }
   ],
   "source": [
    "n=12345\n",
    "k=2\n",
    "\n",
    "def Rotate_number(n,k):\n",
    "    n=str(n)\n",
    "    new_n=n[k+1:]+n[:k+1]\n",
    "    return new_n\n",
    "\n",
    "print(Rotate_number(n,k))"
   ]
  },
  {
   "cell_type": "code",
   "execution_count": 1,
   "id": "9f0b99eb",
   "metadata": {},
   "outputs": [],
   "source": [
    "# Q2. A supermarket maintains a pricing format for all its products. A value N is printed on each product. When the scanner reads the value N on the item, the product of all the digits in the value N is the price of the item. The task here is to design the software such that given the code of any item N the product (multiplication) of all the digits of value should be computed(price).\n",
    "# Example 1:\n",
    "# Input :\n",
    "# 5244 -> Value of N\n",
    "# Output :\n",
    "# 160 -> Price \n",
    "# Explanation:\n",
    "# From the input above \n",
    "# Product of the digits 5,2,4,4\n",
    "# 5*2*4*4= 160\n",
    "# Hence, output is 160."
   ]
  },
  {
   "cell_type": "code",
   "execution_count": 2,
   "id": "fe82a6a3",
   "metadata": {},
   "outputs": [
    {
     "data": {
      "text/plain": [
       "160"
      ]
     },
     "execution_count": 2,
     "metadata": {},
     "output_type": "execute_result"
    }
   ],
   "source": [
    "n=5244\n",
    "\n",
    "def digit_product(n):\n",
    "    summ=1\n",
    "    while n!=0:\n",
    "        div=n%10\n",
    "        summ*=div\n",
    "        n=n//10\n",
    "    return summ\n",
    "\n",
    "digit_product(n)"
   ]
  },
  {
   "cell_type": "code",
   "execution_count": 3,
   "id": "325a9d4f",
   "metadata": {},
   "outputs": [],
   "source": [
    "# Q3. Problem -Statement –\n",
    "# Joseph is learning digital logic subject which will be for his next semester. He usually tries to solve unit assignment problems before the lecture. Today he got one tricky question. The problem statement is “A positive integer has been given as an input. Convert decimal value to binary representation. Toggle all bits of it after the most significant bit including the most significant bit. Print the positive integer value after toggling all bits”.\n",
    "# Constraints-\n",
    "# 1<=N<=100\n",
    "# Example 1:\n",
    "# Input :\n",
    "# 10  -> Integer\n",
    "# Output :\n",
    "# 5    -> result- Integer\n",
    "# Explanation:\n",
    "# Binary representation of 10 is 1010. After toggling the bits(1010), will get 0101 which represents “5”. Hence output will print “5”."
   ]
  },
  {
   "cell_type": "code",
   "execution_count": 4,
   "id": "6ab75393",
   "metadata": {},
   "outputs": [
    {
     "data": {
      "text/plain": [
       "'0101'"
      ]
     },
     "execution_count": 4,
     "metadata": {},
     "output_type": "execute_result"
    }
   ],
   "source": [
    "n=10\n",
    "\n",
    "def Decimal_To_Binary(n):\n",
    "    base=2\n",
    "    s=\"\"\n",
    "    while n!=0:\n",
    "        r=n%base\n",
    "        s+=str(r)\n",
    "        n=n//base\n",
    "    return s\n",
    "\n",
    "Decimal_To_Binary(n)"
   ]
  },
  {
   "cell_type": "code",
   "execution_count": 5,
   "id": "90b93acb",
   "metadata": {},
   "outputs": [],
   "source": [
    "# Q4. Problem: The Mystery Number Sequence\n",
    "# A mysterious sequence of numbers is formed by a pattern. The sequence starts with the number 1, and each subsequent number is generated based on the previous number, but with a twist. The sequence grows based on two specific rules:\n",
    "# 1.\tIf the number is odd, the next number is number * 3 + 1.\n",
    "# 2.\tIf the number is even, the next number is number / 2.\n",
    "# The sequence continues until the number reaches 1.\n",
    "# Your Task: Write a program that generates the sequence starting from a given number n, and returns the sequence of numbers until it reaches 1.\n",
    "# Example:\n",
    "# Input: n = 6\n",
    "# Output:\n",
    "# 6, 3, 10, 5, 16, 8, 4, 2, 1"
   ]
  },
  {
   "cell_type": "code",
   "execution_count": 10,
   "id": "7af08d0a",
   "metadata": {},
   "outputs": [
    {
     "data": {
      "text/plain": [
       "[6, 3, 10, 5, 16, 8, 4, 2, 1]"
      ]
     },
     "execution_count": 10,
     "metadata": {},
     "output_type": "execute_result"
    }
   ],
   "source": [
    "n=6 \n",
    "\n",
    "def mystery_number(n):\n",
    "    sequence=[]\n",
    "    while n!=0:\n",
    "        if n in sequence:\n",
    "            break\n",
    "        elif n%2==0:\n",
    "            sequence.append(n)\n",
    "            n//=2\n",
    "        else:\n",
    "            sequence.append(n)\n",
    "            n=n*3+1\n",
    "\n",
    "    return sequence\n",
    "\n",
    "mystery_number(n)"
   ]
  },
  {
   "cell_type": "code",
   "execution_count": 11,
   "id": "dcb69175",
   "metadata": {},
   "outputs": [],
   "source": [
    "# Problem Statement: Given a number N, print the smallest and largest digits present in the number.\n",
    "# Example 1:\n",
    "# Input: N = 2746\n",
    "# Output: Largest digit: 7\n",
    "#         Smallest digit: 2\n",
    "# Explanation: By simply going through the digits of \n",
    "# the number, we figure out the largest and smallest \n",
    "# digit in the number.\n",
    "\n",
    "# Example 2:\n",
    "# Input: N = 23004\n",
    "# Output: Largest digit : 4\n",
    "#         Smallest digit : 0\n",
    "# Explanation: By simply going through the digits of \n",
    "# the number, we figure out the largest and smallest digit in the number."
   ]
  },
  {
   "cell_type": "code",
   "execution_count": 15,
   "id": "fb3722e2",
   "metadata": {},
   "outputs": [
    {
     "name": "stdout",
     "output_type": "stream",
     "text": [
      "Small number : 0\n",
      "Large Number : 4\n"
     ]
    }
   ],
   "source": [
    "n=23004\n",
    "\n",
    "def small_large(n):\n",
    "    small=0\n",
    "    large=0\n",
    "    while n!=0:\n",
    "        rem=n%10\n",
    "        if rem>large:\n",
    "            large=rem\n",
    "        elif rem<small:\n",
    "            small=rem\n",
    "        n=n//10\n",
    "    return small,large\n",
    "\n",
    "num=small_large(n)\n",
    "\n",
    "print(f\"Small number : {num[0]}\")\n",
    "print(f\"Large Number : {num[1]}\")"
   ]
  },
  {
   "cell_type": "code",
   "execution_count": 16,
   "id": "e5218f79",
   "metadata": {},
   "outputs": [],
   "source": [
    "# Problem Statement: Check if the given year is a leap year or not.\n",
    "# Example 1:\n",
    "# Input: 1996\n",
    "# Output: Yes\n",
    "# Explanation: Since 1996 is a leap year answer is “Yes”.\n",
    "\n",
    "# Example 2:\n",
    "# Input: 2000\n",
    "# Output: Yes\n",
    "\n",
    "# Explanation: Since 2000 is a leap year answer is “Yes”."
   ]
  },
  {
   "cell_type": "code",
   "execution_count": 24,
   "id": "0df4a098",
   "metadata": {},
   "outputs": [
    {
     "data": {
      "text/plain": [
       "'Leap Year And Century Year'"
      ]
     },
     "execution_count": 24,
     "metadata": {},
     "output_type": "execute_result"
    }
   ],
   "source": [
    "n=2000\n",
    "\n",
    "def Leap_Year(n):\n",
    "    length=len(str(n))\n",
    "    if length==4:\n",
    "        if n%400==0 and n%100==0:\n",
    "            return \"Leap Year And Century Year\"\n",
    "        elif n%4==0:\n",
    "            return \"Leap Year\"\n",
    "        else:\n",
    "            return \"Not Leap Year\"\n",
    "\n",
    "Leap_Year(n)"
   ]
  },
  {
   "cell_type": "code",
   "execution_count": null,
   "id": "4c810dcb",
   "metadata": {},
   "outputs": [],
   "source": [
    "# Problem Statement: Given a and b, find prime numbers in a given range [a,b], (a and b are included here).\n",
    "# Examples:\n",
    "# Input: 2 10\n",
    "# Output: 2 3 5 7 \n",
    "# Explanation: Prime Numbers b/w 2 and 10 are 2,3,5 and 7.\n",
    "\n",
    "# Example 2:\n",
    "# Input: 10 16\n",
    "# Output: 11 13 \n",
    "# Explanation: Prime Numbers b/w 10 and 16 are 11 and 13."
   ]
  },
  {
   "cell_type": "code",
   "execution_count": 32,
   "id": "1372a2db",
   "metadata": {},
   "outputs": [
    {
     "data": {
      "text/plain": [
       "[2, 3, 5, 7]"
      ]
     },
     "execution_count": 32,
     "metadata": {},
     "output_type": "execute_result"
    }
   ],
   "source": [
    "n1,n2=2,10\n",
    "\n",
    "def Prime_Number(n1,n2):\n",
    "    prime_list=[]\n",
    "    for i in range(n1,n2+1):\n",
    "        if i<0:\n",
    "            continue\n",
    "        elif i==1:\n",
    "            continue\n",
    "        else:\n",
    "            flag=True\n",
    "            for j in range(2,(i//2)+1):\n",
    "                if i%j==0:\n",
    "                    flag=False\n",
    "                    break\n",
    "            if flag:\n",
    "                prime_list.append(i)\n",
    "    return prime_list\n",
    "\n",
    "Prime_Number(n1,n2)"
   ]
  },
  {
   "cell_type": "code",
   "execution_count": null,
   "id": "6c140a17",
   "metadata": {},
   "outputs": [],
   "source": []
  },
  {
   "cell_type": "code",
   "execution_count": null,
   "id": "f4f4e970",
   "metadata": {},
   "outputs": [],
   "source": []
  }
 ],
 "metadata": {
  "kernelspec": {
   "display_name": "base",
   "language": "python",
   "name": "python3"
  },
  "language_info": {
   "codemirror_mode": {
    "name": "ipython",
    "version": 3
   },
   "file_extension": ".py",
   "mimetype": "text/x-python",
   "name": "python",
   "nbconvert_exporter": "python",
   "pygments_lexer": "ipython3",
   "version": "3.12.7"
  }
 },
 "nbformat": 4,
 "nbformat_minor": 5
}
